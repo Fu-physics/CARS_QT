{
 "cells": [
  {
   "cell_type": "markdown",
   "metadata": {},
   "source": [
    "<img align=left src=\"CRIkit_Logo.png\"> \n",
    "<br>\n",
    "<br>\n",
    "<br>\n",
    "<br>\n",
    "<br>\n",
    "#####Coherent Raman Imaging toolKit\n",
    "\n",
    "# A Quick and Simple Demonstration\n"
   ]
  },
  {
   "cell_type": "markdown",
   "metadata": {},
   "source": [
    "###Setup"
   ]
  },
  {
   "cell_type": "code",
   "execution_count": null,
   "metadata": {},
   "outputs": [],
   "source": [
    "# Setup our imports\n",
    "import sys\n",
    "import time\n",
    "import numpy as np\n",
    "import scipy\n",
    "import scipy.signal\n",
    "import matplotlib.pyplot as plt\n",
    "\n",
    "from openpyxl import Workbook\n",
    "from openpyxl import load_workbook\n",
    "import als_methods as als\n",
    "import pre as crikit"
   ]
  },
  {
   "cell_type": "code",
   "execution_count": null,
   "metadata": {},
   "outputs": [],
   "source": [
    "W = load_workbook('spectra_data.xlsx')\n",
    "p = W.get_sheet_by_name(name = 'Sheet1')\n",
    "\n",
    "a=[]\n",
    "\n",
    "for row in p.iter_rows():\n",
    "    for k in row:\n",
    "        a.append(k.internal_value)\n"
   ]
  },
  {
   "cell_type": "code",
   "execution_count": null,
   "metadata": {},
   "outputs": [],
   "source": [
    "data = np.resize(a, [int(len(a)/15), 15])\n",
    "print(\"The dictionary name list is:\\n\", data[0,:])\n"
   ]
  },
  {
   "cell_type": "code",
   "execution_count": null,
   "metadata": {
    "collapsed": true
   },
   "outputs": [],
   "source": [
    "def nm2wavenumber(pump, antistokes):\n",
    "    return 10**7*(1/np.array(antistokes) - 1/pump)\n",
    "def area(x):\n",
    "    return np.sum(x)"
   ]
  },
  {
   "cell_type": "code",
   "execution_count": null,
   "metadata": {
    "collapsed": true
   },
   "outputs": [],
   "source": [
    "## reshape the data to dictionary \n",
    "dic ={};\n",
    "for i in range(15):\n",
    "    dic[data[0,i]] = data[1:2001,i].astype(np.float)\n",
    "dic[\"wavenumber\"] = nm2wavenumber(1064, dic[data[0,0]])\n",
    "\n",
    "\n",
    "## Normalized the data, which makes the area of each plot to unit 1;\n",
    "dic_norm = {};\n",
    "for i in dic:\n",
    "    #print(area(dic[i]))\n",
    "    dic_norm[i] = dic[i]/area(dic[i])"
   ]
  },
  {
   "cell_type": "code",
   "execution_count": null,
   "metadata": {},
   "outputs": [],
   "source": [
    "background_list = [\"background_1\", \"background_2\", \"background_3\", \"background_4\", \"background_5\", \n",
    " \"background_6\", \"background_7\", \"background_8\", \"background_9\"];\n",
    "signal_list = [\"signal_1\", \"signal_2\", \"signal_3\", \"signal_4\", \"signal_5\"];\n",
    "#signal_list = [\"signal_1\", \"signal_2\", \"signal_3\"];\n",
    "\n",
    "background =  0.0*dic_norm[\"background_1\"]\n",
    "for i in background_list:\n",
    "    background += dic_norm[i]\n",
    "background = background/len(background_list)\n",
    "\n",
    "signal =  0.0*dic_norm[\"signal_1\"]\n",
    "for i in signal_list:\n",
    "    signal += dic_norm[i]\n",
    "signal = signal/len(signal_list)\n",
    "\n",
    "print(\"Number of background data is:\", len(background_list))\n",
    "print(\"background is:\", background)\n",
    "print(\"Number of signal data is:\", len(signal_list))\n",
    "print(\"signal is:\", signal)\n"
   ]
  },
  {
   "cell_type": "code",
   "execution_count": null,
   "metadata": {},
   "outputs": [],
   "source": [
    "%matplotlib notebook\n",
    "\n",
    "xmin = 750;\n",
    "xmax = 950;\n",
    "\n",
    "plt.figure(1)\n",
    "for i in background_list:\n",
    "    plt.plot(dic[data[0,0]], dic_norm[i], label = i)\n",
    "    \n",
    "plt.plot(dic[data[0,0]], background, label = 'background')\n",
    "\n",
    "#for i in signal_list:\n",
    "#    plt.plot(dic[data[0,0]], dic_norm[i], label = i)\n",
    "\n",
    "#plt.plot(dic[data[0,0]], signal, label = 'signal')\n",
    "\n",
    "#plt.xlim((xmin, xmax))\n",
    "\n",
    "plt.legend()\n",
    "plt.xlabel('Wavenumber (cm$^{-1}$)')\n",
    "plt.ylabel('KK-Retrieved Spectrum (au)')\n",
    "plt.title('Imaginary Component', fontsize=14)\n",
    "plt.show()\n",
    "\n"
   ]
  },
  {
   "cell_type": "code",
   "execution_count": null,
   "metadata": {},
   "outputs": [],
   "source": [
    "%matplotlib notebook\n",
    "\n",
    "xmin = 750;\n",
    "xmax = 950;\n",
    "\n",
    "plt.figure(1)\n",
    "for i in background_list:\n",
    "    plt.plot(dic[\"wavenumber\"], dic_norm[i], label = i)\n",
    "    \n",
    "plt.plot(dic[\"wavenumber\"], background, label = 'background')\n",
    "\n",
    "for i in signal_list:\n",
    "    plt.plot(dic[\"wavenumber\"], dic_norm[i], label = i)\n",
    "\n",
    "plt.plot(dic[\"wavenumber\"], signal, label = 'signal')\n",
    "\n",
    "#plt.xlim((xmin, xmax))\n",
    "\n",
    "plt.legend()\n",
    "plt.xlabel('Wavenumber (cm$^{-1}$)')\n",
    "plt.ylabel('KK-Retrieved Spectrum (au)')\n",
    "plt.title('Imaginary Component', fontsize=14)\n",
    "plt.show()\n",
    "\n"
   ]
  },
  {
   "cell_type": "code",
   "execution_count": null,
   "metadata": {},
   "outputs": [],
   "source": [
    "%matplotlib notebook\n",
    "\n",
    "xmin = 750;\n",
    "xmax = 950;\n",
    "plt.figure(figsize=[10, 4])\n",
    "plt.subplot(121)\n",
    "plt.plot(dic[\"wavenumber\"], background, label = 'background')\n",
    "plt.plot(dic[\"wavenumber\"], signal, label = 'signal')\n",
    "plt.plot(dic[\"wavenumber\"], signal - background, label = 'signal- background')\n",
    "plt.legend()\n",
    "\n",
    "plt.subplot(122)\n",
    "plt.plot(dic[\"wavenumber\"], signal/background, label = 'signal/background')\n",
    "plt.plot(dic[\"wavenumber\"], 2000*(signal - background)+1, label = '2000*(signal - background)+1')\n",
    "\n",
    "#plt.xlim((xmin, xmax))\n",
    "\n",
    "plt.legend()\n",
    "plt.xlabel('Wavenumber (cm$^{-1}$)')\n",
    "plt.ylabel('KK-Retrieved Spectrum (au)')\n",
    "plt.show()\n",
    "\n",
    "plt.show()\n"
   ]
  },
  {
   "cell_type": "code",
   "execution_count": null,
   "metadata": {},
   "outputs": [],
   "source": [
    "%matplotlib notebook\n",
    "\n",
    "I_CARS = signal/background\n",
    "I_NRB = np.zeros(len(signal)) +1\n",
    "I_REF = np.zeros(len(signal)) +1\n",
    "\n",
    "plt.rc('font',size=12)\n",
    "plt.plot(WN, I_CARS, label = 'CARS')\n",
    "plt.plot(WN, I_NRB, label = 'NRB')\n",
    "plt.plot(WN, I_REF, label = 'Ref NRB')\n",
    "\n",
    "plt.legend(loc=0,frameon = False)\n",
    "plt.xlabel('Wavenumber (cm$^{-1}$)')\n",
    "plt.ylabel('Spectral Intensity (au)')\n",
    "plt.show()"
   ]
  },
  {
   "cell_type": "markdown",
   "metadata": {},
   "source": [
    "###Simulate a CARS Signal\n",
    "\n",
    "In this extremely simplied example:<br>\n",
    "<ul>\n",
    "<li>$I_{CARS}(\\omega) = \\left | \\chi_R(\\omega) + \\chi_{NR}(\\omega) \\right |^2$\n",
    "<li>$I_{NRB}(\\omega) = \\left | \\chi_{NR}(\\omega) \\right |^2$\n",
    "<li>$I_{REF}(\\omega) = \\left | \\chi_{REF}(\\omega) \\right |^2$\n",
    "</ul>\n",
    "\n",
    "The NRB is the **actual** background and the **reference [NRB]** is a close-but-not-the-same measurement."
   ]
  },
  {
   "cell_type": "markdown",
   "metadata": {},
   "source": [
    "### Perform the Kramers-Kronig Relation to Extract the Spectral Phase\n",
    "\n",
    "####References:\n",
    "\n",
    "Y. Liu, Y. J. Lee, and M. T. Cicerone, \"Broadband CARS spectral phase retrieval using a time-domain Kramers-Kronig transform,\" Opt. Lett. 34, 1363-1365 (2009).\n",
    "\n",
    "C. H. Camp Jr, Y. J. Lee, and M. T. Cicerone, \"Quantitative, comparable coherent anti-Stokes Raman scattering (CARS) spectroscopy: Correcting errors in phase retrieval\" (2015). arXiv:1507.06543.\n"
   ]
  },
  {
   "cell_type": "code",
   "execution_count": null,
   "metadata": {
    "scrolled": false
   },
   "outputs": [],
   "source": [
    "%matplotlib notebook\n",
    "\n",
    "PHASE_OFFSET = 0 # DC phase-offset (default = 0)\n",
    "NORM_BY_NRB = 1 # Normalize retrieved spectrum by NRB/REF-- Removes the optical system response (default = 1)\n",
    "\n",
    "\n",
    "# Perform the Kramers-Kronig Relationship when the NRB is known (ideal case)\n",
    "Retrieved_complex_spectrum_ideal = crikit.kkrelation(I_NRB,I_CARS,PHASE_OFFSET,NORM_BY_NRB) # Complex spectrum\n",
    "Retrieved_Raman_spectrum_ideal = Retrieved_complex_spectrum_ideal.imag # \"Raman-like# (imag{complex spectrum})\n",
    "\n",
    "# Perform the Kramers-Kronig Relationship when using a surrogate NRB \"reference\"\n",
    "Retrieved_complex_spectrum_w_reference = crikit.kkrelation(I_REF,I_CARS,PHASE_OFFSET,NORM_BY_NRB) # Complex spectrum\n",
    "Retrieved_Raman_spectrum_w_reference = Retrieved_complex_spectrum_w_reference.imag # \"Raman-like# (imag{complex spectrum})\n",
    "\n",
    "Retrieved_complex_spectrum_w_reference.imag = -Retrieved_complex_spectrum_w_reference.imag;\n",
    "Retrieved_complex_spectrum_ideal.imag = -Retrieved_complex_spectrum_ideal.imag\n",
    "\n",
    "plt.figure(figsize=[10, 4])\n",
    "plt.subplot(121)\n",
    "\n",
    "plt.plot(WN, Retrieved_complex_spectrum_ideal.real, label = 'Ideal')\n",
    "plt.plot(WN, Retrieved_complex_spectrum_w_reference.real, label = 'w/ Ref NRB')\n",
    "\n",
    "plt.legend(loc=0,frameon = False)\n",
    "plt.xlabel('Wavenumber (cm$^{-1}$)')\n",
    "plt.ylabel('KK-Retrieved Spectrum (au)')\n",
    "plt.title('Real Component', fontsize=14)\n",
    "\n",
    "plt.subplot(122)\n",
    "plt.plot(WN, Retrieved_complex_spectrum_ideal.imag, label = 'Ideal (Imag)')\n",
    "plt.plot(WN, Retrieved_complex_spectrum_w_reference.imag, label = 'w/ Ref NRB (Imag)')\n",
    "plt.xlabel('Wavenumber (cm$^{-1}$)')\n",
    "plt.ylabel('KK-Retrieved Spectrum (au)')\n",
    "plt.title('Imaginary Component', fontsize=14)\n",
    "plt.show()"
   ]
  },
  {
   "cell_type": "markdown",
   "metadata": {},
   "source": [
    "### Phase-Detrending Using Asymmetric Least Square (ALS)"
   ]
  },
  {
   "cell_type": "code",
   "execution_count": null,
   "metadata": {},
   "outputs": [],
   "source": [
    "# ALS takes two parameters-- their ratio is the most important\n",
    "SMOOTHNESS_PARAM = 1e3\n",
    "ASYM_PARAM = 1e-4\n",
    "\n",
    "plt.figure(figsize=[10, 4])\n",
    "plt.rc('font',size=12)\n",
    "\n",
    "plt.subplot(121)\n",
    "plt.plot(WN, np.angle(Retrieved_complex_spectrum_ideal),label = 'ideal')\n",
    "plt.plot(WN, np.angle(Retrieved_complex_spectrum_w_reference), label = 'w/NRB Ref')\n",
    "plt.xlabel('Wavenumber (cm$^{-1}$)')\n",
    "plt.ylabel('Phase (rad)')\n",
    "plt.title('Retrieved Phase', fontsize = 14)\n",
    "plt.legend(loc = 0, frameon = False)\n",
    "\n",
    "# Find baseline with optimal als method (see CRIkit.utils.als_methods for more info)\n",
    "[Baseline, als_method] = als.als_baseline(np.angle(Retrieved_complex_spectrum_w_reference), SMOOTHNESS_PARAM, \\\n",
    "                                             ASYM_PARAM)\n",
    "plt.subplot(122)\n",
    "plt.plot(WN, np.angle(Retrieved_complex_spectrum_w_reference), label = 'w/NRB Ref')\n",
    "plt.plot(WN, Baseline, label = 'ALS Baseline')\n",
    "\n",
    "plt.xlabel('Wavenumber (cm$^{-1}$)')\n",
    "plt.ylabel('Phase (rad)')\n",
    "plt.title('Retrieved Phase and Baseline (' + als_method + ' Method)', fontsize = 14)\n",
    "plt.legend(frameon = False)\n",
    "plt.show()"
   ]
  },
  {
   "cell_type": "markdown",
   "metadata": {},
   "source": [
    "###Correcting for Phase and Amplitude Error"
   ]
  },
  {
   "cell_type": "code",
   "execution_count": null,
   "metadata": {},
   "outputs": [],
   "source": [
    "# Error phase (baseline) and amplitude connected via Kramers-Kronig relation (Hilbert transform)\n",
    "Error_phase = Baseline\n",
    "Error_amp = np.exp(crikit.hilbertfft(Error_phase).imag)\n",
    "Correction_factor_1 = 1/Error_amp * np.exp(-1j*Error_phase)\n",
    "\n",
    "Phase_Corrected = Retrieved_complex_spectrum_w_reference*Correction_factor_1\n",
    "\n",
    "# Amiguity in phase-amp correction found by looking at mean-trend line of real componenet\n",
    "# Using low-order, large-window Savitky-Golay\n",
    "SGOLAY_WINDOW = 601\n",
    "SGOLAY_POLY_ORDER = 2\n",
    "\n",
    "Scaling_factor = 1/(scipy.signal.savgol_filter(np.real(Phase_Corrected),SGOLAY_WINDOW,SGOLAY_POLY_ORDER,axis=0))\n",
    "\n",
    "Corrected = Scaling_factor*Phase_Corrected\n",
    "\n",
    "# Compare these results with traditional baseline detrending of the Raman-like spectrum retrieved\n",
    "# directly from the Kramers-Kronig relation\n",
    "Just_amplitude_corrected = Retrieved_Raman_spectrum_w_reference - als.als_baseline(Retrieved_Raman_spectrum_w_reference,1e3,1e-4)[0]\n",
    "\n",
    "plt.figure(figsize=[10, 4])\n",
    "plt.rc('font',size=12)\n",
    "plt.plot(WN,Corrected.imag, label='Phase Corrected + Scaling')\n",
    "plt.plot(WN,Just_amplitude_corrected, label = 'Baseline Detrended (only)')\n",
    "#plt.plot(WN,CHI_R.imag/np.abs(CHI_NR), 'r--', label = 'Ideal')\n",
    "plt.xlabel('Wavenumber (cm$^{-1}$)')\n",
    "plt.ylabel('Intensity (au)')\n",
    "plt.title('Corrected Raman-Like Spectrum', fontsize = 14)\n",
    "plt.legend(frameon = False)"
   ]
  },
  {
   "cell_type": "markdown",
   "metadata": {},
   "source": [
    "##Phase Detrending and Scaling (i.e., Full Correction) in 3 line"
   ]
  },
  {
   "cell_type": "code",
   "execution_count": null,
   "metadata": {},
   "outputs": [],
   "source": [
    "\"\"\"\n",
    "These are defined earlier:\n",
    "SMOOTHNESS_PARAM\n",
    "ASYM_PARAM\n",
    "SGOLAY_WINDOW\n",
    "SGOLAY_POLY_ORDER\n",
    "\"\"\"\n",
    "# Starts here\n",
    "Error_phase = als.als_baseline(np.angle(Retrieved_complex_spectrum_w_reference), SMOOTHNESS_PARAM,ASYM_PARAM)[0]\n",
    "Phase_Corrected = Retrieved_complex_spectrum_w_reference*(1/np.exp(crikit.hilbertfft(Error_phase).imag) * \\\n",
    "                                                          np.exp(-1j*Error_phase))\n",
    "Corrected = 1/(scipy.signal.savgol_filter(np.real(Phase_Corrected),601,2,axis=0))*Phase_Corrected\n",
    "# Done\n",
    "\n",
    "Just_amplitude_corrected = Retrieved_Raman_spectrum_w_reference - \\\n",
    "    als.als_baseline(Retrieved_Raman_spectrum_w_reference,1e3,1e-4)[0]\n",
    "\n",
    "plt.figure(figsize=[10, 4])\n",
    "plt.rc('font',size=12)\n",
    "plt.plot(WN,Corrected.imag, label='Phase Corrected + Scaling')\n",
    "plt.plot(WN,Just_amplitude_corrected, label = 'Baseline Detrended (only)')\n",
    "#plt.plot(WN,CHI_R.imag/np.abs(CHI_NR), 'r--', label = 'Ideal')\n",
    "plt.xlabel('Wavenumber (cm$^{-1}$)')\n",
    "plt.ylabel('Intensity (au)')\n",
    "plt.title('Corrected Raman-Like Spectrum', fontsize = 14)\n",
    "plt.legend(frameon = False)"
   ]
  },
  {
   "cell_type": "code",
   "execution_count": null,
   "metadata": {
    "collapsed": true
   },
   "outputs": [],
   "source": []
  },
  {
   "cell_type": "code",
   "execution_count": null,
   "metadata": {
    "collapsed": true
   },
   "outputs": [],
   "source": []
  }
 ],
 "metadata": {
  "kernelspec": {
   "display_name": "Python 3",
   "language": "python",
   "name": "python3"
  },
  "language_info": {
   "codemirror_mode": {
    "name": "ipython",
    "version": 3
   },
   "file_extension": ".py",
   "mimetype": "text/x-python",
   "name": "python",
   "nbconvert_exporter": "python",
   "pygments_lexer": "ipython3",
   "version": "3.6.3"
  }
 },
 "nbformat": 4,
 "nbformat_minor": 1
}
